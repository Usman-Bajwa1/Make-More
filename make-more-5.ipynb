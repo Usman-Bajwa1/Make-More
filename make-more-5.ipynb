{
 "cells": [
  {
   "cell_type": "code",
   "execution_count": 1,
   "id": "ba040b9b",
   "metadata": {},
   "outputs": [],
   "source": [
    "import torch\n",
    "import matplotlib.pyplot as plt\n",
    "import torch.nn.functional as F \n",
    "import random\n",
    "%matplotlib inline "
   ]
  },
  {
   "cell_type": "code",
   "execution_count": 2,
   "id": "c49101af",
   "metadata": {},
   "outputs": [],
   "source": [
    "words =  open(\"names.txt\").read().splitlines()"
   ]
  },
  {
   "cell_type": "code",
   "execution_count": 3,
   "id": "d5a70117",
   "metadata": {},
   "outputs": [
    {
     "data": {
      "text/plain": [
       "32033"
      ]
     },
     "execution_count": 3,
     "metadata": {},
     "output_type": "execute_result"
    }
   ],
   "source": [
    "len(words)"
   ]
  },
  {
   "cell_type": "code",
   "execution_count": 4,
   "id": "179eed22",
   "metadata": {},
   "outputs": [],
   "source": [
    "chars = sorted(list(set(''.join(words))))\n",
    "stoi = {s:i+1 for i,s in enumerate(chars)}\n",
    "stoi[\".\"] = 0\n",
    "itos = {i:s for s, i in stoi.items()}"
   ]
  },
  {
   "cell_type": "code",
   "execution_count": 5,
   "id": "744c194b",
   "metadata": {},
   "outputs": [
    {
     "name": "stdout",
     "output_type": "stream",
     "text": [
      "torch.Size([182625, 3]) torch.Size([182625])\n",
      "torch.Size([22655, 3]) torch.Size([22655])\n",
      "torch.Size([22866, 3]) torch.Size([22866])\n"
     ]
    }
   ],
   "source": [
    "block_size = 3\n",
    "\n",
    "def build_dataset(word):\n",
    "    X, Y = [], []\n",
    "\n",
    "    for w in word:\n",
    "        context = [0] * block_size\n",
    "\n",
    "        for ch in w + \".\":\n",
    "            ix = stoi[ch]\n",
    "            X.append(context)\n",
    "            Y.append(ix)\n",
    "            context = context[1:] + [ix]\n",
    "    X = torch.tensor(X)\n",
    "    Y = torch.tensor(Y)\n",
    "    print(X.shape, Y.shape)\n",
    "    return X, Y\n",
    "\n",
    "random.seed(42)\n",
    "random.shuffle(words)\n",
    "n1 = int(0.8*len(words))\n",
    "n2 = int(0.9*len(words))\n",
    "\n",
    "Xtr, Ytr = build_dataset(words[:n1])\n",
    "Xdev, Ydev = build_dataset(words[n1:n2])\n",
    "Xte, Yte = build_dataset(words[n2:])\n"
   ]
  },
  {
   "cell_type": "code",
   "execution_count": 1,
   "id": "687c11c9",
   "metadata": {},
   "outputs": [],
   "source": [
    "class Linear:\n",
    "\n",
    "    def __init__(self, fan_in, fan_out, bias = True):\n",
    "        self.weight = torch.randn((fan_in,fan_out)) * (fan_in ** 0.5)\n",
    "        self.bias = torch.zeros(fan_out) if bias else None\n",
    "\n",
    "    def __call__(self, x):\n",
    "        self.out = x @ self.weight\n",
    "        if self.bias is not None:\n",
    "            self.out += self.bias\n",
    "        return self.out\n",
    "    \n",
    "    def parameters(self):\n",
    "        return [self.weight] + [self.bias] if self.bias is not None else []\n",
    "\n",
    "class Tanh():\n",
    "\n",
    "    def __call__(self, x):\n",
    "        return torch.tanh(x)\n",
    "    \n",
    "    def parameters(self):\n",
    "        return []\n",
    "    \n",
    "class BatchNorm1d:\n",
    "\n",
    "    def __init__(self, dim, eps = 1e-05, momentum = 0.1):\n",
    "        self.eps = eps\n",
    "        self.momentum = momentum\n",
    "        self.gamma = torch.ones(dim) \n",
    "        self.beta = torch.zeros(dim)\n",
    "        self.training = True\n",
    "        self.running_mean = torch.zeros(dim)\n",
    "        self.running_std = torch.ones(dim)\n",
    "    \n",
    "    def __call__(self, x):\n",
    "        if self.training:\n",
    "            xmean = x.mean(0, keepdim=True)\n",
    "            xvar = x.var(0, keepdim=True)\n",
    "        else:\n",
    "            xmean = self.running_mean\n",
    "            xvar = self.running_std\n",
    "        \n",
    "        xhat = (x - xmean) / torch.sqrt(xvar + self.eps)\n",
    "        self.out = self.gamma * xhat + self.beta\n",
    "\n",
    "        if self.training:\n",
    "            with torch.no_grad():\n",
    "                self.running_mean = (1 - self.momentum) * self.running_mean + self.momentum * xmean \n",
    "                self.running_std  = (1 - self.momentum) * self.running_std + self.momentum * xvar \n",
    "        return self.out \n",
    "    \n",
    "    def parameters(self):\n",
    "        return [self.gamma,self.beta]\n",
    "    \n",
    "class Embedding:\n",
    "\n",
    "    def __init__(self, num_embeddings, embedding_dim):\n",
    "        self.weight = torch.randn((num_embeddings, embedding_dim))\n",
    "        \n",
    "    def __call__(self, IX):\n",
    "        self.out = self.weight[IX]\n",
    "        return self.out\n",
    "    \n",
    "    def parameters(self):\n",
    "        return [self.weight]\n",
    "\n",
    "class Faltten:\n",
    "\n",
    "    def __call__(self, x):\n",
    "        self.out = x.view(x.shape[0], -1)\n",
    "        return self.out\n",
    "    \n",
    "    def parameters(self):\n",
    "        return []\n",
    "\n",
    "\n"
   ]
  },
  {
   "cell_type": "code",
   "execution_count": 44,
   "id": "74677b83",
   "metadata": {},
   "outputs": [],
   "source": [
    "vocab_size = 27\n",
    "n_emb = 10\n",
    "C = torch.randn((vocab_size, n_emb))\n",
    "n_hidden = 200"
   ]
  },
  {
   "cell_type": "code",
   "execution_count": 45,
   "id": "21b14224",
   "metadata": {},
   "outputs": [],
   "source": [
    "layers = [\n",
    "    Linear(block_size * n_emb, n_hidden, bias = False), BatchNorm1d(n_hidden), Tanh(),\n",
    "    Linear(n_hidden, vocab_size)\n",
    "]\n",
    "\n",
    "# parameter init\n",
    "with torch.no_grad():\n",
    "    layers[-1].weight *= 0.1"
   ]
  },
  {
   "cell_type": "code",
   "execution_count": 46,
   "id": "990cdf16",
   "metadata": {},
   "outputs": [
    {
     "name": "stdout",
     "output_type": "stream",
     "text": [
      "6097\n"
     ]
    }
   ],
   "source": [
    "params = [C] + [p for layer in layers for p in layer.parameters()]\n",
    "print(sum(p.nelement() for p in params))"
   ]
  },
  {
   "cell_type": "code",
   "execution_count": 47,
   "id": "486b99dd",
   "metadata": {},
   "outputs": [],
   "source": [
    "for p in params:\n",
    "    p.requires_grad = True"
   ]
  },
  {
   "cell_type": "code",
   "execution_count": 48,
   "id": "9c062f9a",
   "metadata": {},
   "outputs": [],
   "source": [
    "max_steps = 200000\n",
    "batch_size = 32\n",
    "lossi = []"
   ]
  },
  {
   "cell_type": "code",
   "execution_count": 49,
   "id": "46cb5338",
   "metadata": {},
   "outputs": [
    {
     "name": "stdout",
     "output_type": "stream",
     "text": [
      "      0/ 200000:  22.0812\n",
      "  10000/ 200000:  3.3357\n",
      "  20000/ 200000:  2.1825\n",
      "  30000/ 200000:  2.4280\n",
      "  40000/ 200000:  2.2722\n",
      "  50000/ 200000:  2.6272\n",
      "  60000/ 200000:  2.0224\n",
      "  70000/ 200000:  2.3144\n",
      "  80000/ 200000:  2.1910\n",
      "  90000/ 200000:  2.4506\n",
      " 100000/ 200000:  2.7081\n",
      " 110000/ 200000:  2.6518\n",
      " 120000/ 200000:  2.4706\n",
      " 130000/ 200000:  2.6362\n",
      " 140000/ 200000:  2.3676\n",
      " 150000/ 200000:  2.5517\n",
      " 160000/ 200000:  2.3069\n",
      " 170000/ 200000:  2.2158\n",
      " 180000/ 200000:  1.9572\n",
      " 190000/ 200000:  2.6574\n"
     ]
    }
   ],
   "source": [
    "for k in range(max_steps):\n",
    "\n",
    "    # minibatch construct\n",
    "    ix = torch.randint(0, Xtr.shape[0], (32, ))\n",
    "    Xb, Yb = Xtr[ix], Ytr[ix]\n",
    "\n",
    "    # forward\n",
    "    emb = C[Xb]\n",
    "    x = emb.view(emb.shape[0], -1) \n",
    "    for layer in layers:\n",
    "        x = layer(x)\n",
    "    \n",
    "    loss = F.cross_entropy(x, Yb)\n",
    "    lossi.append(loss)\n",
    "    # backward pass\n",
    "    for p in params:\n",
    "        p.grad = None\n",
    "    loss.backward()\n",
    "\n",
    "    lr = 0.1 if k < 100000 else 0.01\n",
    "    for p in params:\n",
    "        p.data += -lr * p.grad \n",
    "    \n",
    "    if k % 10000 == 0:\n",
    "        print(f\"{k:7d}/{max_steps:7d}: {loss.item(): .4f}\")\n",
    "\n"
   ]
  },
  {
   "cell_type": "code",
   "execution_count": 37,
   "id": "901e0a14",
   "metadata": {},
   "outputs": [],
   "source": [
    "for layer in layers:\n",
    "    layer.training = False"
   ]
  },
  {
   "cell_type": "code",
   "execution_count": 39,
   "id": "23a60c7f",
   "metadata": {},
   "outputs": [
    {
     "name": "stdout",
     "output_type": "stream",
     "text": [
      "train 2.2613141536712646\n",
      "valid 2.2648017406463623\n"
     ]
    }
   ],
   "source": [
    "@torch.no_grad()\n",
    "def split_loss(split):\n",
    "    x,y  = {\n",
    "        'train': (Xtr, Ytr),\n",
    "        'valid': (Xdev, Ydev),\n",
    "        'test': (Xte, Yte),\n",
    "    }[split]\n",
    "    emb = C[x]\n",
    "    x = emb.view(emb.shape[0], -1)\n",
    "    for layer in layers:\n",
    "        x = layer(x)\n",
    "    loss = F.cross_entropy(x, y)\n",
    "    print(split, loss.item())\n",
    "\n",
    "split_loss('train')\n",
    "split_loss('valid')"
   ]
  },
  {
   "cell_type": "code",
   "execution_count": null,
   "id": "e8672cee",
   "metadata": {},
   "outputs": [],
   "source": []
  }
 ],
 "metadata": {
  "kernelspec": {
   "display_name": "mamor",
   "language": "python",
   "name": "python3"
  },
  "language_info": {
   "codemirror_mode": {
    "name": "ipython",
    "version": 3
   },
   "file_extension": ".py",
   "mimetype": "text/x-python",
   "name": "python",
   "nbconvert_exporter": "python",
   "pygments_lexer": "ipython3",
   "version": "3.11.13"
  }
 },
 "nbformat": 4,
 "nbformat_minor": 5
}
